{
 "cells": [
  {
   "attachments": {},
   "cell_type": "markdown",
   "metadata": {},
   "source": [
    "De los retos anteriores seleciones 3 funciones y escribalas en forma de lambdas."
   ]
  },
  {
   "attachments": {},
   "cell_type": "markdown",
   "metadata": {},
   "source": [
    "    1. Calcular el perímetro de un rectángulo"
   ]
  },
  {
   "cell_type": "code",
   "execution_count": 3,
   "metadata": {},
   "outputs": [
    {
     "name": "stdout",
     "output_type": "stream",
     "text": [
      "El perímetro del rectángulo con base 4.5 y altura 7.2 es 23.4\n"
     ]
    }
   ],
   "source": [
    "if __name__ == \"__main__\":\n",
    "  base = float(input(\"Ingrese la base del rectángulo: \")) #Se le solicita al usuario que ingrese los datos para poder realizar la operación\n",
    "  altura = float(input(\"Ingrese la altura del rectángulo: \"))\n",
    "  perímetroRectángulo = lambda base, altura: (base*2)+(altura*2) #Definimos la operación por medio de lamba\n",
    "  perímetro_rectángulo = perímetroRectángulo(base, altura) #Le damos un nombre al resultado de la operación\n",
    "  print(\"El perímetro del rectángulo con base\", base, \"y altura\", altura, \"es\", perímetro_rectángulo) #Imprimimos el resultado"
   ]
  },
  {
   "attachments": {},
   "cell_type": "markdown",
   "metadata": {},
   "source": [
    "      2. Haga un programa que utilice una función para calcular el valor de un préstamo C usando interés compuesto del i por n meses."
   ]
  },
  {
   "cell_type": "code",
   "execution_count": 7,
   "metadata": {},
   "outputs": [
    {
     "name": "stdout",
     "output_type": "stream",
     "text": [
      "El valor del préstamo después de 12 meses es: 177553.851\n"
     ]
    }
   ],
   "source": [
    "if __name__ == \"__main__\":\n",
    "  c = float(input(\"Introduce el monto del préstamo: \")) #Le solicitamos al usuario que ingrese los datos necesarios para la operación\n",
    "  i = float(input(\"Introduce la tasa de interés en porcentaje: \"))\n",
    "  n = int(input(\"Introduce el número de meses: \"))\n",
    "  valorPrestamo = lambda c, i, n: c * (1 + (i/100)) ** n #Definimos la operación a realizar\n",
    "  valor_prestamo = valorPrestamo(c, i, n) #Le damos un nombre al resultado de la operación anterior \n",
    "  print(\"El valor del préstamo después de\", n, \"meses es:\", round(valor_prestamo, 3)) #Imprimimos el resultado"
   ]
  },
  {
   "attachments": {},
   "cell_type": "markdown",
   "metadata": {},
   "source": [
    "    3.Diseñe una función que calcule la cantidad de carne de aves en kilos si se tienen N gallinas, M gallos y K pollitos cada uno pesando 6 kilos, 7 kilos y 1 kilo respectivamente.\n",
    "\n"
   ]
  },
  {
   "cell_type": "code",
   "execution_count": 10,
   "metadata": {},
   "outputs": [
    {
     "name": "stdout",
     "output_type": "stream",
     "text": [
      "El peso total de 4 gallinas 7 gallos y 6 pollitos es de 79 kg\n"
     ]
    }
   ],
   "source": [
    "if __name__ == \"__main__\":\n",
    "  n = int(input(\"Ingrese la cantidad de gallinas: \")) #Solicitamos los datos con los que vamos a hacer el procedimiento\n",
    "  m = int(input(\"Ingrese la cantidad de gallos: \"))\n",
    "  k = int(input(\"Ingrese la cantidad de pollitos: \"))\n",
    "  pesoAnimales = lambda n, m, k: (6*n)+(7*m)+(1*k) #Colocamos el procedimiento en forma de Lambda\n",
    "  peso_animales = pesoAnimales(n, m, k) #Le definimos un nommbre al resultado del procedimiento\n",
    "  print(\"El peso total de\", n , \"gallinas\", m , \"gallos y\", k , \"pollitos es de\", peso_animales, \"kg\") #Imprimimos el resultado"
   ]
  },
  {
   "attachments": {},
   "cell_type": "markdown",
   "metadata": {},
   "source": [
    "De los retos anteriores seleciones 3 funciones y escribalas con argumentos no definidos (*args)."
   ]
  },
  {
   "attachments": {},
   "cell_type": "markdown",
   "metadata": {},
   "source": [
    "    1.Calcular el área de un rectángulo"
   ]
  },
  {
   "cell_type": "code",
   "execution_count": 4,
   "metadata": {},
   "outputs": [
    {
     "name": "stdout",
     "output_type": "stream",
     "text": [
      "La base de rectángulo es:  28.0\n"
     ]
    }
   ],
   "source": [
    "def area_rectangulo(*args): #Creamos la función y como podemos ver no le otorgamos argumentos definidos\n",
    "    if len(args) == 2: #Como no trabajaremos un bucle sino una operación definida entonces definimos que se deberan ingresar 2 argumentos\n",
    "        base, altura = args #Colocamos que la base y la altura serán los argumentos a ingresar\n",
    "        area = base * altura # Definimos la operación a realizar\n",
    "        return area\n",
    "\n",
    "if __name__==\"__main__\": #Definimos la función principal\n",
    "    base = float (input(\"Ingrese la base del rectángulo\")) #Le solicitamos al usuario que ingrese los datos necesarios\n",
    "    altura = float (input(\"Ingrese la altura del rectángulo\"))\n",
    "    print (\"El área del rectángulo es: \", str(area_rectangulo(base,altura))) #Imprimimos el resultado}"
   ]
  },
  {
   "attachments": {},
   "cell_type": "markdown",
   "metadata": {},
   "source": [
    "    2.Calcular el perímetro rectángulo"
   ]
  },
  {
   "cell_type": "code",
   "execution_count": 2,
   "metadata": {},
   "outputs": [
    {
     "name": "stdout",
     "output_type": "stream",
     "text": [
      "El perímetro del rectángulo es:  22.0\n"
     ]
    }
   ],
   "source": [
    "def calcularPerímetroRectángulo (*args)->float: #Definimos la función sin argumentos\n",
    "    if len(args) == 2: #Le indicamos a la función que serán necesarios 2 argumentos para que pueda operarse \n",
    "        base, altura = args #Le indicamos a la función cuales son los argumentos para que funcione\n",
    "        perímetroRectángulo=(base*2)+(altura*2) #Definimos el procedimiento a realizar\n",
    "        return perímetroRectángulo #Le decimos a la función que nos devuelva el resultado de la operación anterior\n",
    "\n",
    "if __name__==\"__main__\": #Definimos la función principal\n",
    "    base = float (input(\"Ingrese la base del rectángulo\")) #Le solicitamos al usuario que ingrese los datos necesarios para la función\n",
    "    altura = float (input(\"Ingrese la altura del rectángulo\"))\n",
    "\n",
    "    print (\"El perímetro del rectángulo es: \", str(calcularPerímetroRectángulo(base,altura)))#Imprimimos el resultado final"
   ]
  },
  {
   "attachments": {},
   "cell_type": "markdown",
   "metadata": {},
   "source": [
    "    3.Calcular el área de un círculo"
   ]
  },
  {
   "cell_type": "code",
   "execution_count": 10,
   "metadata": {},
   "outputs": [
    {
     "name": "stdout",
     "output_type": "stream",
     "text": [
      "El área del círculo con radio: 5.0 es 78.53981633974483\n"
     ]
    }
   ],
   "source": [
    "from math import pi #De la libreria importamos pi\n",
    "def calcularAreaCírculo(*args)->float: #Definimos la función de la operación\n",
    "   if len (args) == 2: #Le indicamos a la función que deberá tener 2 argumentos para que funcione\n",
    "    radio, pi =args #Le decimos cuales son los argumentos \n",
    "   areaCírculo=((pi)*(radio**2)) #Definimos la operación a realizar\n",
    "   return areaCírculo #Retornamos el resultado de la operación realizada\n",
    "\n",
    "if __name__==\"__main__\": #Definimos la función principal\n",
    "    radio = float (input(\"Ingrese el radio del círculo\"))#Le solicitamos al usuario que ingrese el dato necesario\n",
    "    print (\"El área del círculo con radio:\", radio, \"es\", str(calcularAreaCírculo(radio,pi))) #Imprimimos el resultado\n"
   ]
  },
  {
   "attachments": {},
   "cell_type": "markdown",
   "metadata": {},
   "source": [
    "Escriba una función recursiva para calcular la operación de la potencia."
   ]
  },
  {
   "cell_type": "code",
   "execution_count": 9,
   "metadata": {},
   "outputs": [
    {
     "name": "stdout",
     "output_type": "stream",
     "text": [
      "El resultado de 4.0 con exponente 7 es 16384.0\n"
     ]
    }
   ],
   "source": [
    "def potencia_recursiva(base:float, exponente:int):#Definimos la función para la operación\n",
    "    \"\"\"\n",
    "    Esta función calcula una potencia\n",
    "    Argumentos:\n",
    "    base: float \n",
    "    exponente: int #numero que multiplica cierta cantidad de veces\n",
    "    Devuelve: el resultado de la base elevada a exponente veces\n",
    "    \"\"\"\n",
    "    if exponente==0:# Caso base: Cualquier número elevado a o es 1\n",
    "        return 1\n",
    "    if exponente== 1:# Cualquier número elevado a 1 es ese mismo número\n",
    "        return base\n",
    "    else:\n",
    "        return base*potencia_recursiva(base, exponente-1) #Caso recursivo\n",
    "if __name__ == \"__main__\":  #Función principal\n",
    "    base= float(input(\"ingrese el numero base:\")) #Solicitar los datos necesarios\n",
    "    exponente= int(input(\"Ingrese su exponente:\"))\n",
    "    print(\"El resultado de\", base, \"con exponente\", exponente, \"es:\", str(potencia_recursiva(base, exponente))) #Imprimimos el resultado final"
   ]
  },
  {
   "attachments": {},
   "cell_type": "markdown",
   "metadata": {},
   "source": [
    "Utilice la siguiente plantilla de code para contar el tiempo"
   ]
  },
  {
   "cell_type": "code",
   "execution_count": 3,
   "metadata": {},
   "outputs": [
    {
     "name": "stdout",
     "output_type": "stream",
     "text": [
      "El último número de la serie de Fibonacci hasta 5 es 8\n",
      "fibo se demoró 1.400010660290718e-06 en correr\n",
      "El último número de la serie de Fibonacci hasta 5 es 8\n",
      "fiboRecursivo se demoró 3.600027412176132e-06 en correr\n"
     ]
    }
   ],
   "source": [
    "import timeit #Se importa la libreria a ser utilizada\n",
    "\n",
    "def fibo(n : int )-> int: #Se define la función base\n",
    "  i : int = 1\n",
    "  # Caso base\n",
    "  n1 : int = 0\n",
    "  n2 : int = 1\n",
    "  while(i <= n):\n",
    "    # Condición\n",
    "    sumFibo = n1 + n2\n",
    "    # Actualización\n",
    "    n1 = n2\n",
    "    n2 = sumFibo\n",
    "    i += 1\n",
    "  return sumFibo #Retorna el resultado\n",
    "\n",
    "if __name__ == \"__main__\": #Función principal\n",
    "  num = int(input(\"Ingrese numero: \")) #Solicitamos el dato necesario   \n",
    "  start_time1 = timeit.default_timer() #Sew inicia a contar el tiempo de ejecución\n",
    "  serieFibo = fibo(num)\n",
    "  timer1= timeit.default_timer() - start_time1 #Se finaliza de contar el tiempo de ejecución\n",
    "  print(f\"El último número de la serie de Fibonacci hasta {num} es {serieFibo}\") #Se imprimen los resultados\n",
    "print(f\"fibo se demoró {timer1} en correr\")\n",
    "\n",
    "\n",
    "def fiboRecursivo(n : int )-> int: #Se define la función del caso recursivo\n",
    "    if n <=1:\n",
    "        # Caso base\n",
    "        return 1\n",
    "    else:\n",
    "        # Condición\n",
    "        return fiboRecursivo(n-1)+fiboRecursivo(n-2)  #Retorna el resultado\n",
    "    \n",
    "if __name__ == \"__main__\": #Función principal \n",
    "  num = int(input(\"Ingrese numero: \")) #Solicitamos los datos necesarios\n",
    "  start_time2 = timeit.default_timer() #Se inicia a contabilizar el tiempo\n",
    "  serieFibo = fiboRecursivo(num)\n",
    "  timer2 = timeit.default_timer() - start_time2 #Se detiene el contador\n",
    "  print(f\"El último número de la serie de Fibonacci hasta {num} es {serieFibo}\") #Se imprimen los resultados\n",
    "print(f\"fiboRecursivo se demoró {timer2} en correr\")"
   ]
  }
 ],
 "metadata": {
  "kernelspec": {
   "display_name": "Python 3",
   "language": "python",
   "name": "python3"
  },
  "language_info": {
   "codemirror_mode": {
    "name": "ipython",
    "version": 3
   },
   "file_extension": ".py",
   "mimetype": "text/x-python",
   "name": "python",
   "nbconvert_exporter": "python",
   "pygments_lexer": "ipython3",
   "version": "3.10.11"
  },
  "orig_nbformat": 4
 },
 "nbformat": 4,
 "nbformat_minor": 2
}
